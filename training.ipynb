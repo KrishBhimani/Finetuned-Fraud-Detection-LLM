{
 "cells": [
  {
   "cell_type": "code",
   "execution_count": 1,
   "metadata": {},
   "outputs": [],
   "source": [
    "import pandas as pd\n",
    "data=pd.read_csv(\"balanced_dataset3.csv\")"
   ]
  },
  {
   "cell_type": "code",
   "execution_count": 2,
   "metadata": {},
   "outputs": [
    {
     "name": "stdout",
     "output_type": "stream",
     "text": [
      "<class 'pandas.core.frame.DataFrame'>\n",
      "RangeIndex: 119028 entries, 0 to 119027\n",
      "Data columns (total 15 columns):\n",
      " #   Column          Non-Null Count   Dtype  \n",
      "---  ------          --------------   -----  \n",
      " 0   User            119028 non-null  int64  \n",
      " 1   Card            119028 non-null  int64  \n",
      " 2   Year            119028 non-null  int64  \n",
      " 3   Month           119028 non-null  int64  \n",
      " 4   Day             119028 non-null  int64  \n",
      " 5   Time            119028 non-null  object \n",
      " 6   Amount          119028 non-null  object \n",
      " 7   Use Chip        119028 non-null  object \n",
      " 8   Merchant Name   119028 non-null  int64  \n",
      " 9   Merchant City   119028 non-null  object \n",
      " 10  Merchant State  45613 non-null   object \n",
      " 11  Zip             38845 non-null   float64\n",
      " 12  MCC             119028 non-null  int64  \n",
      " 13  Errors?         3043 non-null    object \n",
      " 14  Is Fraud?       119028 non-null  object \n",
      "dtypes: float64(1), int64(7), object(7)\n",
      "memory usage: 13.6+ MB\n"
     ]
    }
   ],
   "source": [
    "data.info()"
   ]
  },
  {
   "cell_type": "code",
   "execution_count": 3,
   "metadata": {},
   "outputs": [
    {
     "name": "stdout",
     "output_type": "stream",
     "text": [
      "<class 'pandas.core.frame.DataFrame'>\n",
      "RangeIndex: 119028 entries, 0 to 119027\n",
      "Data columns (total 10 columns):\n",
      " #   Column          Non-Null Count   Dtype \n",
      "---  ------          --------------   ----- \n",
      " 0   Year            119028 non-null  int64 \n",
      " 1   Month           119028 non-null  int64 \n",
      " 2   Day             119028 non-null  int64 \n",
      " 3   Time            119028 non-null  object\n",
      " 4   Amount          119028 non-null  object\n",
      " 5   Use Chip        119028 non-null  object\n",
      " 6   Merchant City   119028 non-null  object\n",
      " 7   Merchant State  45613 non-null   object\n",
      " 8   MCC             119028 non-null  int64 \n",
      " 9   Is Fraud?       119028 non-null  object\n",
      "dtypes: int64(4), object(6)\n",
      "memory usage: 9.1+ MB\n"
     ]
    }
   ],
   "source": [
    "data.drop(columns=['User', 'Card', 'Merchant Name', 'Zip', 'Errors?'], inplace=True)\n",
    "data.info()"
   ]
  },
  {
   "cell_type": "code",
   "execution_count": 4,
   "metadata": {},
   "outputs": [],
   "source": [
    "data[\"description\"] = data.apply(\n",
    "    lambda row: f\"On {row['Month']}/{row['Day']}/{row['Year']} at {row['Time']}, \"\n",
    "                f\"a transaction of {row['Amount']} was made using {row['Use Chip']} \"\n",
    "                f\"in {row['Merchant City']}, {row['Merchant State']}. \"\n",
    "                f\"The merchant category code (MCC) was {row['MCC']}. \",\n",
    "    axis=1\n",
    ")"
   ]
  },
  {
   "cell_type": "code",
   "execution_count": 7,
   "metadata": {},
   "outputs": [
    {
     "data": {
      "text/plain": [
       "{'instruction': 'Determine if the transaction is fraudulent based on the given details.',\n",
       " 'input': 'On 2/2/2004 at 09:50, a transaction of $122.08 was made using Online Transaction in  ONLINE, nan. The merchant category code (MCC) was 5712. ',\n",
       " 'output': 'Fraudulent'}"
      ]
     },
     "execution_count": 7,
     "metadata": {},
     "output_type": "execute_result"
    }
   ],
   "source": [
    "lamini_data = [\n",
    "    {\n",
    "        \"instruction\": \"Determine if the transaction is fraudulent based on the given details.\",\n",
    "        \"input\": desc,  # The transaction description you generated earlier\n",
    "        \"output\": \"Fraudulent\" if fraud == 'Yes' else \"Not Fraudulent\"\n",
    "    }\n",
    "    for desc, fraud in zip(data['description'], data['Is Fraud?'])\n",
    "]\n",
    "lamini_data[0]"
   ]
  },
  {
   "cell_type": "code",
   "execution_count": null,
   "metadata": {},
   "outputs": [],
   "source": [
    "import os\n",
    "from lamini import Lamini\n",
    "from dotenv import load_dotenv\n",
    "load_dotenv()\n",
    "\n",
    "\n",
    "# 🔑 Set your API Key\n",
    "import lamini\n",
    "\n",
    "\n",
    "lamini.api_key = os.environ[\"LAMINI_API_KEY\"]\n",
    "\n",
    "# 🔹 Initialize Lamini Fine-Tuner\n",
    "finetuner = Lamini(model_name=\"meta-llama/Meta-Llama-3.1-8B-Instruct\")\n",
    "\n",
    "# 📌 Define Fine-Tuning Configuration\n",
    "config = {\n",
    "    \"finetune_args\": {\n",
    "        \"save_steps\": 60,        \n",
    "        \"max_steps\": 360,         \n",
    "        \"learning_rate\": 0.0003,  \n",
    "        \"max_length\": 2048,       \n",
    "        \"optim\": \"adafactor\",     \n",
    "        \"eval_steps\": 50,         \n",
    "        \"index_max_size\": 65536,  \n",
    "        \"index_k\": 2,\n",
    "        \"r_value\": 32,\n",
    "        \"index_hnsw_m\": 32,\n",
    "        \"index_method\": \"IndexIVFPQ\",\n",
    "        \"index_hnsw_efSearch\": 8,\n",
    "        \"index_pq_nbits\": 8,\n",
    "        \"index_ivf_nprobe\": 48,\n",
    "        \"index_hnsw_efConstruction\": 16,\n",
    "        \"index_pq_m\": 8,\n",
    "        \"index_ivf_nlist\": 2048\n",
    "    },\n",
    "    \"gpu_config\": {},  \n",
    "    \"custom_model_name\": \"LLM_Fraud_Detection\"  # Custom model name\n",
    "}\n",
    "\n",
    "# 📂 Path to JSONL Training Data\n",
    "# Ensure the file is correctly formatted\n",
    "\n",
    "# 🚀 Start Fine-Tuning\n",
    "finetuner.tune(\n",
    "    data_or_dataset_id=lamini_data, finetune_args=config[\"finetune_args\"]\n",
    ")"
   ]
  }
 ],
 "metadata": {
  "kernelspec": {
   "display_name": "Python 3",
   "language": "python",
   "name": "python3"
  },
  "language_info": {
   "codemirror_mode": {
    "name": "ipython",
    "version": 3
   },
   "file_extension": ".py",
   "mimetype": "text/x-python",
   "name": "python",
   "nbconvert_exporter": "python",
   "pygments_lexer": "ipython3",
   "version": "3.11.0"
  }
 },
 "nbformat": 4,
 "nbformat_minor": 2
}
